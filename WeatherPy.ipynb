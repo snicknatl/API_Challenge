{
 "cells": [
  {
   "cell_type": "markdown",
   "metadata": {},
   "source": [
    "# WeatherPy\n",
    "----\n",
    "\n",
    "#### Note\n",
    "* Instructions have been included for each segment. You do not have to follow them exactly, but they are included to help you think through the steps."
   ]
  },
  {
   "cell_type": "code",
   "execution_count": 27,
   "metadata": {
    "scrolled": true
   },
   "outputs": [],
   "source": [
    "# Dependencies and Setup\n",
    "import matplotlib.pyplot as plt\n",
    "import pandas as pd\n",
    "import numpy as np\n",
    "import requests\n",
    "import time\n",
    "from scipy import stats\n",
    "from scipy.stats import linregress\n",
    "%matplotlib inline\n",
    "plt.style.use('seaborn-whitegrid')\n",
    "\n",
    "# Import API key\n",
    "from api_keys import weather_api_key\n",
    "\n",
    "# Incorporated citipy to determine city based on latitude and longitude\n",
    "from citipy import citipy\n",
    "\n",
    "# Output File (CSV)\n",
    "output_data_file = \"output_data/cities.csv\"\n",
    "\n",
    "# Output File (PNG)\n",
    "output_png_file = \"output)data/CityLatvsTemp.png\"\n",
    "\n",
    "# Range of latitudes and longitudes\n",
    "lat_range = (-90, 90)\n",
    "lng_range = (-180, 180)"
   ]
  },
  {
   "cell_type": "markdown",
   "metadata": {},
   "source": [
    "## Generate Cities List"
   ]
  },
  {
   "cell_type": "code",
   "execution_count": 2,
   "metadata": {},
   "outputs": [
    {
     "data": {
      "text/plain": [
       "605"
      ]
     },
     "execution_count": 2,
     "metadata": {},
     "output_type": "execute_result"
    }
   ],
   "source": [
    "# List for holding lat_lngs and cities\n",
    "lat_lngs = []\n",
    "cities = []\n",
    "\n",
    "# Create a set of random lat and lng combinations\n",
    "lats = np.random.uniform(lat_range[0], lat_range[1], size=1500)\n",
    "lngs = np.random.uniform(lng_range[0], lng_range[1], size=1500)\n",
    "lat_lngs = zip(lats, lngs)\n",
    "\n",
    "# Identify nearest city for each lat, lng combination\n",
    "for lat_lng in lat_lngs:\n",
    "    city = citipy.nearest_city(lat_lng[0], lat_lng[1]).city_name\n",
    "    \n",
    "    # If the city is unique, then add it to a our cities list\n",
    "    if city not in cities:\n",
    "        cities.append(city)\n",
    "\n",
    "# Print the city count to confirm sufficient count\n",
    "len(cities)"
   ]
  },
  {
   "cell_type": "markdown",
   "metadata": {},
   "source": [
    "### Perform API Calls\n",
    "* Perform a weather check on each city using a series of successive API calls.\n",
    "* Include a print log of each city as it'sbeing processed (with the city number and city name).\n"
   ]
  },
  {
   "cell_type": "code",
   "execution_count": 3,
   "metadata": {},
   "outputs": [],
   "source": [
    "api_key = weather_api_key"
   ]
  },
  {
   "cell_type": "code",
   "execution_count": 4,
   "metadata": {},
   "outputs": [],
   "source": [
    "# api.openweathermap.org/data/2.5/forecast?q={city name}&appid={API key}"
   ]
  },
  {
   "cell_type": "code",
   "execution_count": 5,
   "metadata": {},
   "outputs": [
    {
     "name": "stdout",
     "output_type": "stream",
     "text": [
      "http://api.openweathermap.org/data/2.5/weather?&appid=de779efdb6112be210b62d8f5b2e2739&q=\n"
     ]
    }
   ],
   "source": [
    "# endpoint:  Url From openweather for API call\n",
    "base_url = \"http://api.openweathermap.org/data/2.5/weather?\"\n",
    "units = \"Imperial\"    \n",
    "base_url = f\"{base_url}&appid={api_key}&q=\"\n",
    "print(base_url)"
   ]
  },
  {
   "cell_type": "code",
   "execution_count": 6,
   "metadata": {},
   "outputs": [
    {
     "name": "stdout",
     "output_type": "stream",
     "text": [
      "Beginning Data Retrieval\n",
      "City number 1 of 605 complete | tasiilaq\n",
      "City number 2 of 605 complete | cape town\n",
      "City number 3 of 605 complete | chuy\n",
      "City number 4 of 605 complete | mahebourg\n",
      "City number 5 of 605 complete | rikitea\n",
      "Missing data in city number 6 of 605. | Skipping! meyungs\n",
      "City number 7 of 605 complete | namatanai\n",
      "Missing data in city number 8 of 605. | Skipping! agva\n",
      "City number 9 of 605 complete | cabo san lucas\n",
      "City number 10 of 605 complete | busselton\n",
      "City number 11 of 605 complete | jiexiu\n",
      "City number 12 of 605 complete | krasnovishersk\n",
      "City number 13 of 605 complete | atuona\n",
      "City number 14 of 605 complete | esperance\n",
      "City number 15 of 605 complete | tocopilla\n",
      "Missing data in city number 16 of 605. | Skipping! dinsor\n",
      "City number 17 of 605 complete | paungde\n",
      "City number 18 of 605 complete | namibe\n",
      "City number 19 of 605 complete | san andres\n",
      "City number 20 of 605 complete | port alfred\n",
      "City number 21 of 605 complete | bethel\n",
      "City number 22 of 605 complete | mormugao\n",
      "City number 23 of 605 complete | hamilton\n",
      "City number 24 of 605 complete | beringovskiy\n",
      "City number 25 of 605 complete | longyearbyen\n",
      "City number 26 of 605 complete | njeru\n",
      "Missing data in city number 27 of 605. | Skipping! kuche\n",
      "City number 28 of 605 complete | faanui\n",
      "City number 29 of 605 complete | ayagoz\n",
      "Missing data in city number 30 of 605. | Skipping! taolanaro\n",
      "City number 31 of 605 complete | jamestown\n",
      "City number 32 of 605 complete | bria\n",
      "City number 33 of 605 complete | dingle\n",
      "City number 34 of 605 complete | vershino-darasunskiy\n",
      "City number 35 of 605 complete | kryve ozero\n",
      "City number 36 of 605 complete | izhma\n",
      "City number 37 of 605 complete | chimbote\n",
      "City number 38 of 605 complete | saint-philippe\n",
      "City number 39 of 605 complete | volax\n",
      "City number 40 of 605 complete | zadar\n",
      "City number 41 of 605 complete | ratnagiri\n",
      "City number 42 of 605 complete | provideniya\n",
      "City number 43 of 605 complete | east london\n",
      "City number 44 of 605 complete | pafos\n",
      "Missing data in city number 45 of 605. | Skipping! eskasem\n",
      "City number 46 of 605 complete | faya\n",
      "City number 47 of 605 complete | oum hadjer\n",
      "City number 48 of 605 complete | warangal\n",
      "City number 49 of 605 complete | kapaa\n",
      "City number 50 of 605 complete | mataura\n",
      "City number 51 of 605 complete | olden\n",
      "City number 52 of 605 complete | luangwa\n",
      "City number 53 of 605 complete | punta arenas\n",
      "City number 54 of 605 complete | tuktoyaktuk\n",
      "City number 55 of 605 complete | kuala terengganu\n",
      "City number 56 of 605 complete | manokwari\n",
      "City number 57 of 605 complete | georgetown\n",
      "City number 58 of 605 complete | bathsheba\n",
      "City number 59 of 605 complete | kropotkin\n",
      "City number 60 of 605 complete | hambantota\n",
      "City number 61 of 605 complete | butaritari\n",
      "City number 62 of 605 complete | hobart\n",
      "City number 63 of 605 complete | qaanaaq\n",
      "City number 64 of 605 complete | castro\n",
      "City number 65 of 605 complete | caravelas\n",
      "City number 66 of 605 complete | pisco\n",
      "City number 67 of 605 complete | planadas\n",
      "City number 68 of 605 complete | paamiut\n",
      "City number 69 of 605 complete | hasaki\n",
      "City number 70 of 605 complete | arraial do cabo\n",
      "City number 71 of 605 complete | nettuno\n",
      "City number 72 of 605 complete | harrisburg\n",
      "City number 73 of 605 complete | hermanus\n",
      "City number 74 of 605 complete | vaini\n",
      "City number 75 of 605 complete | dikson\n",
      "City number 76 of 605 complete | kangasala\n",
      "City number 77 of 605 complete | zemio\n",
      "City number 78 of 605 complete | yambio\n",
      "City number 79 of 605 complete | rocha\n",
      "Missing data in city number 80 of 605. | Skipping! paradwip\n",
      "City number 81 of 605 complete | flinders\n",
      "City number 82 of 605 complete | sabang\n",
      "Missing data in city number 83 of 605. | Skipping! fort saint john\n",
      "Missing data in city number 84 of 605. | Skipping! belushya guba\n",
      "City number 85 of 605 complete | aroysund\n",
      "City number 86 of 605 complete | albion\n",
      "City number 87 of 605 complete | dubti\n",
      "City number 88 of 605 complete | ponta do sol\n",
      "Missing data in city number 89 of 605. | Skipping! khonuu\n",
      "City number 90 of 605 complete | barth\n",
      "City number 91 of 605 complete | kodiak\n",
      "City number 92 of 605 complete | ushuaia\n",
      "Missing data in city number 93 of 605. | Skipping! mys shmidta\n",
      "Missing data in city number 94 of 605. | Skipping! amderma\n",
      "City number 95 of 605 complete | port augusta\n",
      "City number 96 of 605 complete | norman wells\n",
      "City number 97 of 605 complete | havre-saint-pierre\n",
      "City number 98 of 605 complete | mount gambier\n",
      "Missing data in city number 99 of 605. | Skipping! sentyabrskiy\n",
      "City number 100 of 605 complete | candido de abreu\n",
      "City number 101 of 605 complete | maceio\n",
      "City number 102 of 605 complete | kudahuvadhoo\n",
      "City number 103 of 605 complete | sitka\n",
      "City number 104 of 605 complete | xining\n",
      "City number 105 of 605 complete | darhan\n",
      "City number 106 of 605 complete | nemuro\n",
      "City number 107 of 605 complete | yellowknife\n",
      "City number 108 of 605 complete | linfen\n",
      "City number 109 of 605 complete | quatre cocos\n",
      "City number 110 of 605 complete | severo-kurilsk\n",
      "City number 111 of 605 complete | cockburn town\n",
      "City number 112 of 605 complete | saint george\n",
      "City number 113 of 605 complete | fairbanks\n",
      "City number 114 of 605 complete | jalu\n",
      "City number 115 of 605 complete | berlevag\n",
      "Missing data in city number 116 of 605. | Skipping! samusu\n",
      "City number 117 of 605 complete | hurghada\n",
      "City number 118 of 605 complete | lerwick\n",
      "City number 119 of 605 complete | lokot\n",
      "City number 120 of 605 complete | geraldton\n",
      "Missing data in city number 121 of 605. | Skipping! illoqqortoormiut\n",
      "City number 122 of 605 complete | lebu\n",
      "Missing data in city number 123 of 605. | Skipping! karaul\n",
      "City number 124 of 605 complete | tabou\n",
      "City number 125 of 605 complete | steinbach\n",
      "City number 126 of 605 complete | albany\n",
      "City number 127 of 605 complete | bereda\n",
      "Missing data in city number 128 of 605. | Skipping! vaitupu\n",
      "Missing data in city number 129 of 605. | Skipping! lolua\n",
      "City number 130 of 605 complete | aklavik\n",
      "City number 131 of 605 complete | ergani\n",
      "City number 132 of 605 complete | nanortalik\n",
      "City number 133 of 605 complete | kramat\n",
      "City number 134 of 605 complete | chokurdakh\n",
      "City number 135 of 605 complete | sao joao da barra\n",
      "City number 136 of 605 complete | vostok\n",
      "City number 137 of 605 complete | bowen\n",
      "City number 138 of 605 complete | poum\n",
      "City number 139 of 605 complete | tuatapere\n",
      "City number 140 of 605 complete | fortuna\n",
      "City number 141 of 605 complete | tete\n",
      "City number 142 of 605 complete | salalah\n",
      "City number 143 of 605 complete | new norfolk\n",
      "City number 144 of 605 complete | bukachacha\n",
      "City number 145 of 605 complete | joshimath\n",
      "City number 146 of 605 complete | airai\n",
      "City number 147 of 605 complete | troitsk\n",
      "City number 148 of 605 complete | maputo\n",
      "City number 149 of 605 complete | sambava\n",
      "City number 150 of 605 complete | barrow\n",
      "City number 151 of 605 complete | ribeira grande\n",
      "City number 152 of 605 complete | selfoss\n",
      "City number 153 of 605 complete | azanka\n",
      "City number 154 of 605 complete | sal rei\n",
      "City number 155 of 605 complete | caucaia\n",
      "City number 156 of 605 complete | hilo\n",
      "City number 157 of 605 complete | udachnyy\n",
      "City number 158 of 605 complete | thompson\n",
      "City number 159 of 605 complete | kholtoson\n",
      "City number 160 of 605 complete | marsh harbour\n",
      "City number 161 of 605 complete | huntsville\n",
      "City number 162 of 605 complete | yar-sale\n",
      "City number 163 of 605 complete | cosambesti\n",
      "City number 164 of 605 complete | kaeo\n",
      "City number 165 of 605 complete | natal\n",
      "City number 166 of 605 complete | nikolskoye\n",
      "City number 167 of 605 complete | monteagudo\n",
      "City number 168 of 605 complete | minusinsk\n",
      "Missing data in city number 169 of 605. | Skipping! igarape-miri\n",
      "City number 170 of 605 complete | abapo\n",
      "City number 171 of 605 complete | hithadhoo\n",
      "City number 172 of 605 complete | khatanga\n",
      "City number 173 of 605 complete | talaya\n",
      "City number 174 of 605 complete | san quintin\n",
      "City number 175 of 605 complete | kudat\n",
      "City number 176 of 605 complete | ostrovnoy\n",
      "Missing data in city number 177 of 605. | Skipping! safaqis\n",
      "City number 178 of 605 complete | kimberley\n",
      "City number 179 of 605 complete | tessalit\n",
      "City number 180 of 605 complete | bara\n",
      "City number 181 of 605 complete | richards bay\n",
      "City number 182 of 605 complete | ilongero\n",
      "City number 183 of 605 complete | kavieng\n",
      "City number 184 of 605 complete | scarborough\n"
     ]
    },
    {
     "name": "stdout",
     "output_type": "stream",
     "text": [
      "City number 185 of 605 complete | shubarkuduk\n",
      "City number 186 of 605 complete | weligama\n",
      "City number 187 of 605 complete | avarua\n",
      "City number 188 of 605 complete | komsomolskiy\n",
      "City number 189 of 605 complete | mogadishu\n",
      "City number 190 of 605 complete | iqaluit\n",
      "Missing data in city number 191 of 605. | Skipping! bolshegrivskoye\n",
      "Missing data in city number 192 of 605. | Skipping! tidore\n",
      "Missing data in city number 193 of 605. | Skipping! ruatoria\n",
      "City number 194 of 605 complete | mana\n",
      "City number 195 of 605 complete | sovetskiy\n",
      "City number 196 of 605 complete | uray\n",
      "City number 197 of 605 complete | port moresby\n",
      "City number 198 of 605 complete | margate\n",
      "City number 199 of 605 complete | mbekenyera\n",
      "City number 200 of 605 complete | broome\n",
      "City number 201 of 605 complete | fort nelson\n",
      "Missing data in city number 202 of 605. | Skipping! kadykchan\n",
      "City number 203 of 605 complete | ayan\n",
      "City number 204 of 605 complete | acapulco\n",
      "City number 205 of 605 complete | salaga\n",
      "Missing data in city number 206 of 605. | Skipping! dzhusaly\n",
      "City number 207 of 605 complete | harper\n",
      "City number 208 of 605 complete | nabinagar\n",
      "City number 209 of 605 complete | katobu\n",
      "City number 210 of 605 complete | pilar\n",
      "City number 211 of 605 complete | jalingo\n",
      "Missing data in city number 212 of 605. | Skipping! pousat\n",
      "City number 213 of 605 complete | katsuura\n",
      "City number 214 of 605 complete | ilebo\n",
      "City number 215 of 605 complete | san cristobal\n",
      "City number 216 of 605 complete | clyde river\n",
      "City number 217 of 605 complete | vilhena\n",
      "City number 218 of 605 complete | lompoc\n",
      "City number 219 of 605 complete | cidreira\n",
      "City number 220 of 605 complete | strathpeffer\n",
      "City number 221 of 605 complete | lalganj\n",
      "City number 222 of 605 complete | birin\n",
      "City number 223 of 605 complete | olafsvik\n",
      "City number 224 of 605 complete | adolfo lopez mateos\n",
      "City number 225 of 605 complete | comodoro rivadavia\n",
      "City number 226 of 605 complete | pitimbu\n",
      "City number 227 of 605 complete | henderson\n",
      "City number 228 of 605 complete | cherskiy\n",
      "City number 229 of 605 complete | aljezur\n",
      "City number 230 of 605 complete | hofn\n",
      "Missing data in city number 231 of 605. | Skipping! attawapiskat\n",
      "City number 232 of 605 complete | talnakh\n",
      "City number 233 of 605 complete | laguna\n",
      "City number 234 of 605 complete | padang\n",
      "City number 235 of 605 complete | bluff\n",
      "City number 236 of 605 complete | henties bay\n",
      "City number 237 of 605 complete | waipawa\n",
      "City number 238 of 605 complete | saint-pierre\n",
      "City number 239 of 605 complete | vardo\n",
      "City number 240 of 605 complete | bredasdorp\n",
      "City number 241 of 605 complete | cobija\n",
      "Missing data in city number 242 of 605. | Skipping! nizhneyansk\n",
      "City number 243 of 605 complete | omboue\n",
      "City number 244 of 605 complete | siniscola\n",
      "City number 245 of 605 complete | taos\n",
      "Missing data in city number 246 of 605. | Skipping! barentsburg\n",
      "City number 247 of 605 complete | bethanien\n",
      "City number 248 of 605 complete | puerto ayora\n",
      "City number 249 of 605 complete | carnarvon\n",
      "City number 250 of 605 complete | arman\n",
      "City number 251 of 605 complete | luderitz\n",
      "City number 252 of 605 complete | bakchar\n",
      "City number 253 of 605 complete | guerrero negro\n",
      "City number 254 of 605 complete | upernavik\n",
      "City number 255 of 605 complete | alekseyevsk\n",
      "City number 256 of 605 complete | gillette\n",
      "City number 257 of 605 complete | farafangana\n",
      "City number 258 of 605 complete | saint anthony\n",
      "City number 259 of 605 complete | disna\n",
      "Missing data in city number 260 of 605. | Skipping! orgun\n",
      "City number 261 of 605 complete | kavaratti\n",
      "City number 262 of 605 complete | leningradskiy\n",
      "City number 263 of 605 complete | cayenne\n",
      "City number 264 of 605 complete | zaysan\n",
      "City number 265 of 605 complete | ilula\n",
      "City number 266 of 605 complete | tchibanga\n",
      "City number 267 of 605 complete | rio grande\n",
      "City number 268 of 605 complete | zyryanka\n",
      "City number 269 of 605 complete | constitucion\n",
      "City number 270 of 605 complete | tura\n",
      "City number 271 of 605 complete | kangaatsiaq\n",
      "City number 272 of 605 complete | bognor regis\n",
      "City number 273 of 605 complete | bengkulu\n",
      "City number 274 of 605 complete | bandarbeyla\n",
      "City number 275 of 605 complete | ituacu\n",
      "City number 276 of 605 complete | solano\n",
      "City number 277 of 605 complete | tiksi\n",
      "City number 278 of 605 complete | baghdad\n",
      "City number 279 of 605 complete | victoria\n",
      "City number 280 of 605 complete | betul\n",
      "City number 281 of 605 complete | turukhansk\n",
      "City number 282 of 605 complete | haines junction\n",
      "City number 283 of 605 complete | syracuse\n",
      "City number 284 of 605 complete | san luis\n",
      "City number 285 of 605 complete | langxiang\n",
      "City number 286 of 605 complete | yulara\n",
      "City number 287 of 605 complete | pingzhuang\n",
      "City number 288 of 605 complete | diapaga\n",
      "City number 289 of 605 complete | dali\n",
      "City number 290 of 605 complete | verkhnevilyuysk\n",
      "City number 291 of 605 complete | yumen\n",
      "City number 292 of 605 complete | alice springs\n",
      "City number 293 of 605 complete | simiti\n",
      "City number 294 of 605 complete | saldanha\n",
      "City number 295 of 605 complete | honolulu\n",
      "City number 296 of 605 complete | port lincoln\n",
      "City number 297 of 605 complete | eureka\n",
      "City number 298 of 605 complete | lagos\n",
      "City number 299 of 605 complete | ketchikan\n",
      "City number 300 of 605 complete | mar del plata\n",
      "City number 301 of 605 complete | sisimiut\n",
      "Missing data in city number 302 of 605. | Skipping! umzimvubu\n",
      "City number 303 of 605 complete | college\n",
      "City number 304 of 605 complete | saskylakh\n",
      "City number 305 of 605 complete | klaksvik\n",
      "City number 306 of 605 complete | atar\n",
      "City number 307 of 605 complete | mariental\n",
      "City number 308 of 605 complete | fairfield\n",
      "City number 309 of 605 complete | lithgow\n",
      "City number 310 of 605 complete | coihaique\n",
      "City number 311 of 605 complete | algeciras\n",
      "City number 312 of 605 complete | gijon\n",
      "City number 313 of 605 complete | baruun-urt\n",
      "City number 314 of 605 complete | antofagasta\n",
      "City number 315 of 605 complete | lavrentiya\n",
      "City number 316 of 605 complete | biak\n",
      "City number 317 of 605 complete | verkh-usugli\n",
      "City number 318 of 605 complete | sakakah\n",
      "City number 319 of 605 complete | necochea\n",
      "City number 320 of 605 complete | port elizabeth\n",
      "City number 321 of 605 complete | te anau\n",
      "Missing data in city number 322 of 605. | Skipping! fevralsk\n",
      "City number 323 of 605 complete | edd\n",
      "City number 324 of 605 complete | nishihara\n",
      "City number 325 of 605 complete | pevek\n",
      "City number 326 of 605 complete | cartagena\n",
      "City number 327 of 605 complete | santo amaro das brotas\n",
      "City number 328 of 605 complete | jaicos\n",
      "City number 329 of 605 complete | terekli-mekteb\n",
      "City number 330 of 605 complete | saint-francois\n",
      "City number 331 of 605 complete | ouesso\n",
      "City number 332 of 605 complete | egvekinot\n",
      "City number 333 of 605 complete | vanimo\n",
      "City number 334 of 605 complete | popondetta\n",
      "City number 335 of 605 complete | the valley\n",
      "Missing data in city number 336 of 605. | Skipping! saleaula\n",
      "City number 337 of 605 complete | barreirinhas\n",
      "City number 338 of 605 complete | tual\n",
      "Missing data in city number 339 of 605. | Skipping! maloshuyka\n",
      "City number 340 of 605 complete | singkang\n",
      "City number 341 of 605 complete | talara\n",
      "City number 342 of 605 complete | raton\n",
      "City number 343 of 605 complete | anloga\n",
      "City number 344 of 605 complete | galesong\n",
      "City number 345 of 605 complete | tiznit\n",
      "City number 346 of 605 complete | strelka\n",
      "City number 347 of 605 complete | san patricio\n",
      "City number 348 of 605 complete | atasu\n",
      "Missing data in city number 349 of 605. | Skipping! jiddah\n",
      "City number 350 of 605 complete | phatthalung\n",
      "City number 351 of 605 complete | lorengau\n",
      "City number 352 of 605 complete | hatillo\n",
      "City number 353 of 605 complete | bichena\n",
      "Missing data in city number 354 of 605. | Skipping! makung\n",
      "City number 355 of 605 complete | thunder bay\n",
      "City number 356 of 605 complete | lazaro cardenas\n",
      "City number 357 of 605 complete | half moon bay\n",
      "City number 358 of 605 complete | assiniboia\n",
      "City number 359 of 605 complete | ancud\n",
      "City number 360 of 605 complete | narsaq\n",
      "City number 361 of 605 complete | oranjemund\n",
      "City number 362 of 605 complete | kapit\n",
      "City number 363 of 605 complete | tsiroanomandidy\n",
      "Missing data in city number 364 of 605. | Skipping! angra\n",
      "City number 365 of 605 complete | imbituba\n",
      "City number 366 of 605 complete | arlit\n"
     ]
    },
    {
     "name": "stdout",
     "output_type": "stream",
     "text": [
      "City number 367 of 605 complete | krasnoarmeyskiy\n",
      "City number 368 of 605 complete | viedma\n",
      "City number 369 of 605 complete | asau\n",
      "City number 370 of 605 complete | hohhot\n",
      "City number 371 of 605 complete | ramshir\n",
      "City number 372 of 605 complete | dalvik\n",
      "City number 373 of 605 complete | buraydah\n",
      "City number 374 of 605 complete | otavi\n",
      "City number 375 of 605 complete | kungurtug\n",
      "City number 376 of 605 complete | houma\n",
      "City number 377 of 605 complete | santa maria\n",
      "Missing data in city number 378 of 605. | Skipping! grand river south east\n",
      "City number 379 of 605 complete | klyuchi\n",
      "City number 380 of 605 complete | ponyri\n",
      "City number 381 of 605 complete | flers\n",
      "City number 382 of 605 complete | vila\n",
      "City number 383 of 605 complete | sayyan\n",
      "City number 384 of 605 complete | lisala\n",
      "City number 385 of 605 complete | severnoye\n",
      "City number 386 of 605 complete | meulaboh\n",
      "City number 387 of 605 complete | la orilla\n",
      "City number 388 of 605 complete | petatlan\n",
      "City number 389 of 605 complete | lucea\n",
      "Missing data in city number 390 of 605. | Skipping! skalistyy\n",
      "City number 391 of 605 complete | cueto\n",
      "City number 392 of 605 complete | kurumkan\n",
      "City number 393 of 605 complete | dalby\n",
      "City number 394 of 605 complete | nazarovo\n",
      "City number 395 of 605 complete | jardim\n",
      "City number 396 of 605 complete | alindao\n",
      "City number 397 of 605 complete | belaya gora\n",
      "City number 398 of 605 complete | ahuimanu\n",
      "City number 399 of 605 complete | ponta delgada\n",
      "City number 400 of 605 complete | beltinci\n",
      "City number 401 of 605 complete | kahului\n",
      "City number 402 of 605 complete | preobrazheniye\n",
      "City number 403 of 605 complete | carutapera\n",
      "City number 404 of 605 complete | stavern\n",
      "City number 405 of 605 complete | sept-iles\n",
      "City number 406 of 605 complete | palmer\n",
      "City number 407 of 605 complete | kizukuri\n",
      "City number 408 of 605 complete | ayame\n",
      "City number 409 of 605 complete | grindavik\n",
      "City number 410 of 605 complete | hami\n",
      "City number 411 of 605 complete | yekaterinoslavka\n",
      "City number 412 of 605 complete | mulchen\n",
      "City number 413 of 605 complete | kushmurun\n",
      "City number 414 of 605 complete | gat\n",
      "City number 415 of 605 complete | estelle\n",
      "City number 416 of 605 complete | bubaque\n",
      "Missing data in city number 417 of 605. | Skipping! palabuhanratu\n",
      "Missing data in city number 418 of 605. | Skipping! galgani\n",
      "City number 419 of 605 complete | srednekolymsk\n",
      "City number 420 of 605 complete | los llanos de aridane\n",
      "City number 421 of 605 complete | mandalgovi\n",
      "City number 422 of 605 complete | christchurch\n",
      "City number 423 of 605 complete | ilulissat\n",
      "City number 424 of 605 complete | hope\n",
      "City number 425 of 605 complete | la union\n",
      "City number 426 of 605 complete | leatherhead\n",
      "City number 427 of 605 complete | majalgaon\n",
      "City number 428 of 605 complete | gazli\n",
      "City number 429 of 605 complete | tucurui\n",
      "Missing data in city number 430 of 605. | Skipping! tsihombe\n",
      "City number 431 of 605 complete | manado\n",
      "City number 432 of 605 complete | uyuni\n",
      "City number 433 of 605 complete | dera ghazi khan\n",
      "City number 434 of 605 complete | kruisfontein\n",
      "City number 435 of 605 complete | kokopo\n",
      "City number 436 of 605 complete | puerto baquerizo moreno\n",
      "City number 437 of 605 complete | jian\n",
      "City number 438 of 605 complete | trelew\n",
      "City number 439 of 605 complete | basar\n",
      "City number 440 of 605 complete | chontalpa\n",
      "City number 441 of 605 complete | pangnirtung\n",
      "City number 442 of 605 complete | mecca\n",
      "City number 443 of 605 complete | saint-leu\n",
      "City number 444 of 605 complete | goundam\n",
      "City number 445 of 605 complete | alirajpur\n",
      "City number 446 of 605 complete | marihatag\n",
      "City number 447 of 605 complete | mildura\n",
      "City number 448 of 605 complete | prainha\n",
      "City number 449 of 605 complete | martapura\n",
      "City number 450 of 605 complete | bonavista\n",
      "City number 451 of 605 complete | martinho campos\n",
      "City number 452 of 605 complete | lagoa\n",
      "City number 453 of 605 complete | borba\n",
      "City number 454 of 605 complete | gushikawa\n",
      "City number 455 of 605 complete | alofi\n",
      "Missing data in city number 456 of 605. | Skipping! burica\n",
      "City number 457 of 605 complete | peniche\n",
      "City number 458 of 605 complete | beohari\n",
      "City number 459 of 605 complete | mandan\n",
      "City number 460 of 605 complete | solnechnyy\n",
      "City number 461 of 605 complete | humaita\n",
      "City number 462 of 605 complete | codrington\n",
      "Missing data in city number 463 of 605. | Skipping! ondorhaan\n",
      "City number 464 of 605 complete | grand gaube\n",
      "City number 465 of 605 complete | bambous virieux\n",
      "City number 466 of 605 complete | pemba\n",
      "Missing data in city number 467 of 605. | Skipping! bury saint edmunds\n",
      "City number 468 of 605 complete | tucuma\n",
      "City number 469 of 605 complete | baglung\n",
      "Missing data in city number 470 of 605. | Skipping! kinanah\n",
      "City number 471 of 605 complete | rio gallegos\n",
      "City number 472 of 605 complete | xuddur\n",
      "City number 473 of 605 complete | nome\n",
      "City number 474 of 605 complete | batticaloa\n",
      "City number 475 of 605 complete | zhezkazgan\n",
      "City number 476 of 605 complete | pacific grove\n",
      "City number 477 of 605 complete | talcahuano\n",
      "Missing data in city number 478 of 605. | Skipping! jujuy\n",
      "City number 479 of 605 complete | bonthe\n",
      "City number 480 of 605 complete | cauquenes\n",
      "City number 481 of 605 complete | acari\n",
      "City number 482 of 605 complete | touros\n",
      "City number 483 of 605 complete | straumen\n",
      "City number 484 of 605 complete | shimanovsk\n",
      "City number 485 of 605 complete | ahipara\n",
      "City number 486 of 605 complete | kaitangata\n",
      "City number 487 of 605 complete | gambo\n",
      "City number 488 of 605 complete | mao\n",
      "City number 489 of 605 complete | aasiaat\n",
      "City number 490 of 605 complete | aldan\n",
      "City number 491 of 605 complete | acajutla\n",
      "City number 492 of 605 complete | mehamn\n",
      "City number 493 of 605 complete | tianpeng\n",
      "City number 494 of 605 complete | ust-kuyga\n",
      "City number 495 of 605 complete | hay river\n",
      "City number 496 of 605 complete | souillac\n",
      "City number 497 of 605 complete | gikongoro\n",
      "Missing data in city number 498 of 605. | Skipping! jabiru\n",
      "City number 499 of 605 complete | verkhnyaya inta\n",
      "City number 500 of 605 complete | kosino\n",
      "City number 501 of 605 complete | torbay\n",
      "City number 502 of 605 complete | tshikapa\n",
      "City number 503 of 605 complete | warrington\n",
      "City number 504 of 605 complete | capelinha\n",
      "Missing data in city number 505 of 605. | Skipping! urdzhar\n",
      "City number 506 of 605 complete | soe\n",
      "City number 507 of 605 complete | batemans bay\n",
      "Missing data in city number 508 of 605. | Skipping! yanan\n",
      "City number 509 of 605 complete | malanje\n",
      "City number 510 of 605 complete | sao filipe\n",
      "City number 511 of 605 complete | malakal\n",
      "City number 512 of 605 complete | adrar\n",
      "City number 513 of 605 complete | karratha\n",
      "City number 514 of 605 complete | glendive\n",
      "City number 515 of 605 complete | trinidad\n",
      "City number 516 of 605 complete | cozumel\n",
      "City number 517 of 605 complete | baker city\n",
      "City number 518 of 605 complete | okhotsk\n",
      "City number 519 of 605 complete | mogzon\n",
      "City number 520 of 605 complete | mangan\n",
      "City number 521 of 605 complete | waingapu\n",
      "City number 522 of 605 complete | vila velha\n",
      "City number 523 of 605 complete | loa janan\n",
      "City number 524 of 605 complete | lilongwe\n",
      "City number 525 of 605 complete | torres\n",
      "City number 526 of 605 complete | garowe\n",
      "City number 527 of 605 complete | tromso\n",
      "City number 528 of 605 complete | corsicana\n",
      "City number 529 of 605 complete | marfino\n",
      "City number 530 of 605 complete | huarmey\n",
      "City number 531 of 605 complete | ilhabela\n",
      "City number 532 of 605 complete | stralsund\n",
      "City number 533 of 605 complete | lima\n",
      "City number 534 of 605 complete | ballina\n",
      "City number 535 of 605 complete | shakiso\n",
      "City number 536 of 605 complete | luanda\n",
      "City number 537 of 605 complete | chernyshevskiy\n",
      "City number 538 of 605 complete | kargasok\n",
      "City number 539 of 605 complete | port hedland\n",
      "City number 540 of 605 complete | akdagmadeni\n",
      "City number 541 of 605 complete | hashtrud\n",
      "City number 542 of 605 complete | araouane\n",
      "City number 543 of 605 complete | paso de carrasco\n",
      "City number 544 of 605 complete | almaznyy\n",
      "Missing data in city number 545 of 605. | Skipping! kamenskoye\n",
      "City number 546 of 605 complete | burnie\n",
      "City number 547 of 605 complete | maldonado\n",
      "City number 548 of 605 complete | troyes\n",
      "City number 549 of 605 complete | rudbar\n",
      "City number 550 of 605 complete | avera\n"
     ]
    },
    {
     "name": "stdout",
     "output_type": "stream",
     "text": [
      "City number 551 of 605 complete | lata\n",
      "City number 552 of 605 complete | sawakin\n",
      "City number 553 of 605 complete | ferme-neuve\n",
      "City number 554 of 605 complete | sorgun\n",
      "City number 555 of 605 complete | kenai\n",
      "City number 556 of 605 complete | lang son\n",
      "Missing data in city number 557 of 605. | Skipping! warqla\n",
      "City number 558 of 605 complete | galle\n",
      "City number 559 of 605 complete | shingu\n",
      "City number 560 of 605 complete | barentu\n",
      "City number 561 of 605 complete | contamana\n",
      "City number 562 of 605 complete | northam\n",
      "Missing data in city number 563 of 605. | Skipping! bargal\n",
      "City number 564 of 605 complete | winslow\n",
      "City number 565 of 605 complete | ugoofaaru\n",
      "City number 566 of 605 complete | kuandian\n",
      "City number 567 of 605 complete | alexandria\n",
      "City number 568 of 605 complete | camacha\n",
      "City number 569 of 605 complete | tateyama\n",
      "City number 570 of 605 complete | cuamba\n",
      "City number 571 of 605 complete | saint-georges\n",
      "City number 572 of 605 complete | kautokeino\n",
      "City number 573 of 605 complete | molchanovo\n",
      "City number 574 of 605 complete | cap malheureux\n",
      "City number 575 of 605 complete | russellville\n",
      "Missing data in city number 576 of 605. | Skipping! tuggurt\n",
      "City number 577 of 605 complete | la ronge\n",
      "City number 578 of 605 complete | atambua\n",
      "City number 579 of 605 complete | bhikangaon\n",
      "City number 580 of 605 complete | truth or consequences\n",
      "City number 581 of 605 complete | vestmanna\n",
      "City number 582 of 605 complete | kambove\n",
      "City number 583 of 605 complete | kaura namoda\n",
      "City number 584 of 605 complete | ust-omchug\n",
      "City number 585 of 605 complete | teya\n",
      "City number 586 of 605 complete | wiwili\n",
      "City number 587 of 605 complete | leshan\n",
      "City number 588 of 605 complete | santa cruz\n",
      "City number 589 of 605 complete | kharovsk\n",
      "City number 590 of 605 complete | vigrestad\n",
      "City number 591 of 605 complete | kataysk\n",
      "City number 592 of 605 complete | stornoway\n",
      "City number 593 of 605 complete | mae tha\n",
      "City number 594 of 605 complete | kabare\n",
      "City number 595 of 605 complete | qaqortoq\n",
      "City number 596 of 605 complete | volterra\n",
      "City number 597 of 605 complete | churapcha\n",
      "City number 598 of 605 complete | bilibino\n",
      "City number 599 of 605 complete | aktau\n",
      "City number 600 of 605 complete | villaviciosa\n",
      "City number 601 of 605 complete | shirokiy\n",
      "City number 602 of 605 complete | kloulklubed\n",
      "City number 603 of 605 complete | zaranj\n",
      "City number 604 of 605 complete | pakpattan\n",
      "City number 605 of 605 complete | raga\n",
      "Data Retrieval Completed\n"
     ]
    }
   ],
   "source": [
    "# Count for city\n",
    "Number = 1\n",
    "\n",
    "# Create lists to hold required items\n",
    "City = []\n",
    "Lat = []\n",
    "Lng = []\n",
    "Max_Temp = []\n",
    "Humidity = []\n",
    "Cloudiness = []\n",
    "Wind_Speed = []\n",
    "Country = []\n",
    "Date = []\n",
    "\n",
    "#Loop through each city, extract information and print result\n",
    "print(\"Beginning Data Retrieval\")\n",
    "# for city in cities[:5]:\n",
    "for city in cities:\n",
    "    \n",
    "    # do all this if successful\n",
    "    try: \n",
    "        City_Data = requests.get(base_url + city).json()\n",
    "        Lat.append(City_Data['coord']['lat'])\n",
    "        Lng.append(City_Data['coord']['lon'])\n",
    "        Max_Temp.append(City_Data['main']['temp_max'])\n",
    "        Humidity.append(City_Data['main']['humidity'])\n",
    "        Cloudiness.append(City_Data['clouds']['all'])\n",
    "        Wind_Speed.append(City_Data['wind']['speed'])\n",
    "        Country.append(City_Data['sys']['country'])                \n",
    "        Date.append(City_Data['dt'])\n",
    "        City.append(city)\n",
    "        \n",
    "        print(f'City number {Number} of {len(cities)} complete | {city}')\n",
    "        Number = Number + 1\n",
    "    \n",
    "    # do all this if unsuccessful\n",
    "    except KeyError:\n",
    "#         #City.append(city)\n",
    "#         #append 'n/a'\n",
    "#         Lat.append(\"N/A\")\n",
    "#         Lng.append(\"N/A\")\n",
    "#         Max_Temp.append(\"N/A\")\n",
    "#         Humidity.append(\"N/A\")\n",
    "#         Cloudiness.append(\"N/A\")\n",
    "#         Wind_Speed.append(\"N/A\")\n",
    "#         Country.append(\"N/A\")                \n",
    "#         Date.append(\"N/A\")\n",
    "        \n",
    "        print(f'Missing data in city number {Number} of {len(cities)}. | Skipping! {city}')\n",
    "        Number = Number + 1\n",
    "       \n",
    "    time.sleep(1)\n",
    "        \n",
    "#Print(City_Data)                   \n",
    "print('Data Retrieval Completed')           "
   ]
  },
  {
   "cell_type": "markdown",
   "metadata": {},
   "source": [
    "### Convert Raw Data to DataFrame\n",
    "* Export the city data into a .csv.\n",
    "* Display the DataFrame"
   ]
  },
  {
   "cell_type": "code",
   "execution_count": 17,
   "metadata": {},
   "outputs": [],
   "source": [
    "# Convert raw data to DataFrame\n",
    "Weather_dict = {\"City\": City, \"Lat\": Lat, \"Lng\": Lng, \"Max_Temp\": Max_Temp, \"Humidity\": Humidity,\n",
    "                \"Cloudiness\": Cloudiness, \"Wind_Speed\": Wind_Speed, \"Country\": Country, \"Date\": Date}\n",
    "\n",
    "Weather_df = pd.DataFrame(Weather_dict)\n",
    "\n",
    "Weather_df.to_csv('cities.csv',encoding = \"utf-8\",index = False)\n",
    "# Weather_dict.count()\n",
    "#Weather_df                "
   ]
  },
  {
   "cell_type": "code",
   "execution_count": 18,
   "metadata": {},
   "outputs": [
    {
     "data": {
      "text/html": [
       "<div>\n",
       "<style scoped>\n",
       "    .dataframe tbody tr th:only-of-type {\n",
       "        vertical-align: middle;\n",
       "    }\n",
       "\n",
       "    .dataframe tbody tr th {\n",
       "        vertical-align: top;\n",
       "    }\n",
       "\n",
       "    .dataframe thead th {\n",
       "        text-align: right;\n",
       "    }\n",
       "</style>\n",
       "<table border=\"1\" class=\"dataframe\">\n",
       "  <thead>\n",
       "    <tr style=\"text-align: right;\">\n",
       "      <th></th>\n",
       "      <th>City</th>\n",
       "      <th>Lat</th>\n",
       "      <th>Lng</th>\n",
       "      <th>Max_Temp</th>\n",
       "      <th>Humidity</th>\n",
       "      <th>Cloudiness</th>\n",
       "      <th>Wind_Speed</th>\n",
       "      <th>Country</th>\n",
       "      <th>Date</th>\n",
       "    </tr>\n",
       "  </thead>\n",
       "  <tbody>\n",
       "    <tr>\n",
       "      <th>0</th>\n",
       "      <td>tasiilaq</td>\n",
       "      <td>65.6145</td>\n",
       "      <td>-37.6368</td>\n",
       "      <td>270.15</td>\n",
       "      <td>46</td>\n",
       "      <td>0</td>\n",
       "      <td>8.75</td>\n",
       "      <td>GL</td>\n",
       "      <td>1612743022</td>\n",
       "    </tr>\n",
       "    <tr>\n",
       "      <th>1</th>\n",
       "      <td>cape town</td>\n",
       "      <td>-33.9258</td>\n",
       "      <td>18.4232</td>\n",
       "      <td>292.15</td>\n",
       "      <td>68</td>\n",
       "      <td>0</td>\n",
       "      <td>6.69</td>\n",
       "      <td>ZA</td>\n",
       "      <td>1612743023</td>\n",
       "    </tr>\n",
       "    <tr>\n",
       "      <th>2</th>\n",
       "      <td>chuy</td>\n",
       "      <td>-33.6971</td>\n",
       "      <td>-53.4616</td>\n",
       "      <td>292.35</td>\n",
       "      <td>75</td>\n",
       "      <td>34</td>\n",
       "      <td>3.79</td>\n",
       "      <td>UY</td>\n",
       "      <td>1612742696</td>\n",
       "    </tr>\n",
       "    <tr>\n",
       "      <th>3</th>\n",
       "      <td>mahebourg</td>\n",
       "      <td>-20.4081</td>\n",
       "      <td>57.7000</td>\n",
       "      <td>299.15</td>\n",
       "      <td>83</td>\n",
       "      <td>40</td>\n",
       "      <td>3.09</td>\n",
       "      <td>MU</td>\n",
       "      <td>1612743230</td>\n",
       "    </tr>\n",
       "    <tr>\n",
       "      <th>4</th>\n",
       "      <td>rikitea</td>\n",
       "      <td>-23.1203</td>\n",
       "      <td>-134.9692</td>\n",
       "      <td>298.49</td>\n",
       "      <td>71</td>\n",
       "      <td>81</td>\n",
       "      <td>5.60</td>\n",
       "      <td>PF</td>\n",
       "      <td>1612743231</td>\n",
       "    </tr>\n",
       "    <tr>\n",
       "      <th>...</th>\n",
       "      <td>...</td>\n",
       "      <td>...</td>\n",
       "      <td>...</td>\n",
       "      <td>...</td>\n",
       "      <td>...</td>\n",
       "      <td>...</td>\n",
       "      <td>...</td>\n",
       "      <td>...</td>\n",
       "      <td>...</td>\n",
       "    </tr>\n",
       "    <tr>\n",
       "      <th>546</th>\n",
       "      <td>shirokiy</td>\n",
       "      <td>49.7580</td>\n",
       "      <td>129.5230</td>\n",
       "      <td>246.29</td>\n",
       "      <td>88</td>\n",
       "      <td>0</td>\n",
       "      <td>4.43</td>\n",
       "      <td>RU</td>\n",
       "      <td>1612743898</td>\n",
       "    </tr>\n",
       "    <tr>\n",
       "      <th>547</th>\n",
       "      <td>kloulklubed</td>\n",
       "      <td>7.0419</td>\n",
       "      <td>134.2556</td>\n",
       "      <td>301.15</td>\n",
       "      <td>83</td>\n",
       "      <td>75</td>\n",
       "      <td>4.63</td>\n",
       "      <td>PW</td>\n",
       "      <td>1612743899</td>\n",
       "    </tr>\n",
       "    <tr>\n",
       "      <th>548</th>\n",
       "      <td>zaranj</td>\n",
       "      <td>30.9667</td>\n",
       "      <td>61.8833</td>\n",
       "      <td>281.15</td>\n",
       "      <td>36</td>\n",
       "      <td>0</td>\n",
       "      <td>1.31</td>\n",
       "      <td>AF</td>\n",
       "      <td>1612743901</td>\n",
       "    </tr>\n",
       "    <tr>\n",
       "      <th>549</th>\n",
       "      <td>pakpattan</td>\n",
       "      <td>30.3410</td>\n",
       "      <td>73.3866</td>\n",
       "      <td>285.47</td>\n",
       "      <td>41</td>\n",
       "      <td>0</td>\n",
       "      <td>1.66</td>\n",
       "      <td>PK</td>\n",
       "      <td>1612743902</td>\n",
       "    </tr>\n",
       "    <tr>\n",
       "      <th>550</th>\n",
       "      <td>raga</td>\n",
       "      <td>8.4596</td>\n",
       "      <td>25.6780</td>\n",
       "      <td>287.33</td>\n",
       "      <td>35</td>\n",
       "      <td>94</td>\n",
       "      <td>1.16</td>\n",
       "      <td>SS</td>\n",
       "      <td>1612743903</td>\n",
       "    </tr>\n",
       "  </tbody>\n",
       "</table>\n",
       "<p>551 rows × 9 columns</p>\n",
       "</div>"
      ],
      "text/plain": [
       "            City      Lat       Lng  Max_Temp  Humidity  Cloudiness  \\\n",
       "0       tasiilaq  65.6145  -37.6368    270.15        46           0   \n",
       "1      cape town -33.9258   18.4232    292.15        68           0   \n",
       "2           chuy -33.6971  -53.4616    292.35        75          34   \n",
       "3      mahebourg -20.4081   57.7000    299.15        83          40   \n",
       "4        rikitea -23.1203 -134.9692    298.49        71          81   \n",
       "..           ...      ...       ...       ...       ...         ...   \n",
       "546     shirokiy  49.7580  129.5230    246.29        88           0   \n",
       "547  kloulklubed   7.0419  134.2556    301.15        83          75   \n",
       "548       zaranj  30.9667   61.8833    281.15        36           0   \n",
       "549    pakpattan  30.3410   73.3866    285.47        41           0   \n",
       "550         raga   8.4596   25.6780    287.33        35          94   \n",
       "\n",
       "     Wind_Speed Country        Date  \n",
       "0          8.75      GL  1612743022  \n",
       "1          6.69      ZA  1612743023  \n",
       "2          3.79      UY  1612742696  \n",
       "3          3.09      MU  1612743230  \n",
       "4          5.60      PF  1612743231  \n",
       "..          ...     ...         ...  \n",
       "546        4.43      RU  1612743898  \n",
       "547        4.63      PW  1612743899  \n",
       "548        1.31      AF  1612743901  \n",
       "549        1.66      PK  1612743902  \n",
       "550        1.16      SS  1612743903  \n",
       "\n",
       "[551 rows x 9 columns]"
      ]
     },
     "execution_count": 18,
     "metadata": {},
     "output_type": "execute_result"
    }
   ],
   "source": [
    "Weather_df"
   ]
  },
  {
   "cell_type": "code",
   "execution_count": 19,
   "metadata": {
    "scrolled": true
   },
   "outputs": [
    {
     "data": {
      "text/html": [
       "<div>\n",
       "<style scoped>\n",
       "    .dataframe tbody tr th:only-of-type {\n",
       "        vertical-align: middle;\n",
       "    }\n",
       "\n",
       "    .dataframe tbody tr th {\n",
       "        vertical-align: top;\n",
       "    }\n",
       "\n",
       "    .dataframe thead th {\n",
       "        text-align: right;\n",
       "    }\n",
       "</style>\n",
       "<table border=\"1\" class=\"dataframe\">\n",
       "  <thead>\n",
       "    <tr style=\"text-align: right;\">\n",
       "      <th></th>\n",
       "      <th>Lat</th>\n",
       "      <th>Lng</th>\n",
       "      <th>Max_Temp</th>\n",
       "      <th>Humidity</th>\n",
       "      <th>Cloudiness</th>\n",
       "      <th>Wind_Speed</th>\n",
       "      <th>Date</th>\n",
       "    </tr>\n",
       "  </thead>\n",
       "  <tbody>\n",
       "    <tr>\n",
       "      <th>count</th>\n",
       "      <td>551.000000</td>\n",
       "      <td>551.000000</td>\n",
       "      <td>551.000000</td>\n",
       "      <td>551.000000</td>\n",
       "      <td>551.000000</td>\n",
       "      <td>551.000000</td>\n",
       "      <td>5.510000e+02</td>\n",
       "    </tr>\n",
       "    <tr>\n",
       "      <th>mean</th>\n",
       "      <td>19.706151</td>\n",
       "      <td>17.127757</td>\n",
       "      <td>282.330817</td>\n",
       "      <td>72.749546</td>\n",
       "      <td>50.765880</td>\n",
       "      <td>3.746171</td>\n",
       "      <td>1.612743e+09</td>\n",
       "    </tr>\n",
       "    <tr>\n",
       "      <th>std</th>\n",
       "      <td>33.737140</td>\n",
       "      <td>87.536557</td>\n",
       "      <td>17.819636</td>\n",
       "      <td>19.834746</td>\n",
       "      <td>38.636083</td>\n",
       "      <td>2.699564</td>\n",
       "      <td>2.869962e+02</td>\n",
       "    </tr>\n",
       "    <tr>\n",
       "      <th>min</th>\n",
       "      <td>-54.800000</td>\n",
       "      <td>-179.166700</td>\n",
       "      <td>234.850000</td>\n",
       "      <td>8.000000</td>\n",
       "      <td>0.000000</td>\n",
       "      <td>0.110000</td>\n",
       "      <td>1.612742e+09</td>\n",
       "    </tr>\n",
       "    <tr>\n",
       "      <th>25%</th>\n",
       "      <td>-7.591350</td>\n",
       "      <td>-56.146500</td>\n",
       "      <td>270.370000</td>\n",
       "      <td>64.000000</td>\n",
       "      <td>11.500000</td>\n",
       "      <td>1.685000</td>\n",
       "      <td>1.612743e+09</td>\n",
       "    </tr>\n",
       "    <tr>\n",
       "      <th>50%</th>\n",
       "      <td>21.866700</td>\n",
       "      <td>21.516700</td>\n",
       "      <td>288.710000</td>\n",
       "      <td>78.000000</td>\n",
       "      <td>45.000000</td>\n",
       "      <td>3.090000</td>\n",
       "      <td>1.612744e+09</td>\n",
       "    </tr>\n",
       "    <tr>\n",
       "      <th>75%</th>\n",
       "      <td>48.665650</td>\n",
       "      <td>90.305750</td>\n",
       "      <td>297.020000</td>\n",
       "      <td>87.000000</td>\n",
       "      <td>90.000000</td>\n",
       "      <td>5.140000</td>\n",
       "      <td>1.612744e+09</td>\n",
       "    </tr>\n",
       "    <tr>\n",
       "      <th>max</th>\n",
       "      <td>78.218600</td>\n",
       "      <td>179.316700</td>\n",
       "      <td>305.150000</td>\n",
       "      <td>100.000000</td>\n",
       "      <td>100.000000</td>\n",
       "      <td>20.060000</td>\n",
       "      <td>1.612744e+09</td>\n",
       "    </tr>\n",
       "  </tbody>\n",
       "</table>\n",
       "</div>"
      ],
      "text/plain": [
       "              Lat         Lng    Max_Temp    Humidity  Cloudiness  Wind_Speed  \\\n",
       "count  551.000000  551.000000  551.000000  551.000000  551.000000  551.000000   \n",
       "mean    19.706151   17.127757  282.330817   72.749546   50.765880    3.746171   \n",
       "std     33.737140   87.536557   17.819636   19.834746   38.636083    2.699564   \n",
       "min    -54.800000 -179.166700  234.850000    8.000000    0.000000    0.110000   \n",
       "25%     -7.591350  -56.146500  270.370000   64.000000   11.500000    1.685000   \n",
       "50%     21.866700   21.516700  288.710000   78.000000   45.000000    3.090000   \n",
       "75%     48.665650   90.305750  297.020000   87.000000   90.000000    5.140000   \n",
       "max     78.218600  179.316700  305.150000  100.000000  100.000000   20.060000   \n",
       "\n",
       "               Date  \n",
       "count  5.510000e+02  \n",
       "mean   1.612743e+09  \n",
       "std    2.869962e+02  \n",
       "min    1.612742e+09  \n",
       "25%    1.612743e+09  \n",
       "50%    1.612744e+09  \n",
       "75%    1.612744e+09  \n",
       "max    1.612744e+09  "
      ]
     },
     "execution_count": 19,
     "metadata": {},
     "output_type": "execute_result"
    }
   ],
   "source": [
    "Weather_df.describe()"
   ]
  },
  {
   "cell_type": "markdown",
   "metadata": {},
   "source": [
    "## Inspect the data and remove the cities where the humidity > 100%.\n",
    "----\n",
    "Skip this step if there are no cities that have humidity > 100%. "
   ]
  },
  {
   "cell_type": "code",
   "execution_count": 20,
   "metadata": {},
   "outputs": [
    {
     "data": {
      "text/plain": [
       "Int64Index([], dtype='int64')"
      ]
     },
     "execution_count": 20,
     "metadata": {},
     "output_type": "execute_result"
    }
   ],
   "source": [
    "#  Get the indices of cities that have humidity over 100%.   #.loc\n",
    "humidity_check = Weather_df.loc[Weather_df['Humidity']>100].index\n",
    "humidity_check"
   ]
  },
  {
   "cell_type": "code",
   "execution_count": 21,
   "metadata": {
    "scrolled": true
   },
   "outputs": [
    {
     "data": {
      "text/html": [
       "<div>\n",
       "<style scoped>\n",
       "    .dataframe tbody tr th:only-of-type {\n",
       "        vertical-align: middle;\n",
       "    }\n",
       "\n",
       "    .dataframe tbody tr th {\n",
       "        vertical-align: top;\n",
       "    }\n",
       "\n",
       "    .dataframe thead th {\n",
       "        text-align: right;\n",
       "    }\n",
       "</style>\n",
       "<table border=\"1\" class=\"dataframe\">\n",
       "  <thead>\n",
       "    <tr style=\"text-align: right;\">\n",
       "      <th></th>\n",
       "      <th>City</th>\n",
       "      <th>Lat</th>\n",
       "      <th>Lng</th>\n",
       "      <th>Max_Temp</th>\n",
       "      <th>Humidity</th>\n",
       "      <th>Cloudiness</th>\n",
       "      <th>Wind_Speed</th>\n",
       "      <th>Country</th>\n",
       "      <th>Date</th>\n",
       "    </tr>\n",
       "  </thead>\n",
       "  <tbody>\n",
       "    <tr>\n",
       "      <th>0</th>\n",
       "      <td>tasiilaq</td>\n",
       "      <td>65.6145</td>\n",
       "      <td>-37.6368</td>\n",
       "      <td>270.15</td>\n",
       "      <td>46</td>\n",
       "      <td>0</td>\n",
       "      <td>8.75</td>\n",
       "      <td>GL</td>\n",
       "      <td>1612743022</td>\n",
       "    </tr>\n",
       "    <tr>\n",
       "      <th>1</th>\n",
       "      <td>cape town</td>\n",
       "      <td>-33.9258</td>\n",
       "      <td>18.4232</td>\n",
       "      <td>292.15</td>\n",
       "      <td>68</td>\n",
       "      <td>0</td>\n",
       "      <td>6.69</td>\n",
       "      <td>ZA</td>\n",
       "      <td>1612743023</td>\n",
       "    </tr>\n",
       "    <tr>\n",
       "      <th>2</th>\n",
       "      <td>chuy</td>\n",
       "      <td>-33.6971</td>\n",
       "      <td>-53.4616</td>\n",
       "      <td>292.35</td>\n",
       "      <td>75</td>\n",
       "      <td>34</td>\n",
       "      <td>3.79</td>\n",
       "      <td>UY</td>\n",
       "      <td>1612742696</td>\n",
       "    </tr>\n",
       "    <tr>\n",
       "      <th>3</th>\n",
       "      <td>mahebourg</td>\n",
       "      <td>-20.4081</td>\n",
       "      <td>57.7000</td>\n",
       "      <td>299.15</td>\n",
       "      <td>83</td>\n",
       "      <td>40</td>\n",
       "      <td>3.09</td>\n",
       "      <td>MU</td>\n",
       "      <td>1612743230</td>\n",
       "    </tr>\n",
       "    <tr>\n",
       "      <th>4</th>\n",
       "      <td>rikitea</td>\n",
       "      <td>-23.1203</td>\n",
       "      <td>-134.9692</td>\n",
       "      <td>298.49</td>\n",
       "      <td>71</td>\n",
       "      <td>81</td>\n",
       "      <td>5.60</td>\n",
       "      <td>PF</td>\n",
       "      <td>1612743231</td>\n",
       "    </tr>\n",
       "    <tr>\n",
       "      <th>5</th>\n",
       "      <td>namatanai</td>\n",
       "      <td>-3.6667</td>\n",
       "      <td>152.4333</td>\n",
       "      <td>302.70</td>\n",
       "      <td>68</td>\n",
       "      <td>96</td>\n",
       "      <td>2.19</td>\n",
       "      <td>PG</td>\n",
       "      <td>1612742677</td>\n",
       "    </tr>\n",
       "    <tr>\n",
       "      <th>6</th>\n",
       "      <td>cabo san lucas</td>\n",
       "      <td>22.8909</td>\n",
       "      <td>-109.9124</td>\n",
       "      <td>294.26</td>\n",
       "      <td>60</td>\n",
       "      <td>40</td>\n",
       "      <td>3.09</td>\n",
       "      <td>MX</td>\n",
       "      <td>1612743235</td>\n",
       "    </tr>\n",
       "    <tr>\n",
       "      <th>7</th>\n",
       "      <td>busselton</td>\n",
       "      <td>-33.6500</td>\n",
       "      <td>115.3333</td>\n",
       "      <td>290.93</td>\n",
       "      <td>99</td>\n",
       "      <td>81</td>\n",
       "      <td>1.34</td>\n",
       "      <td>AU</td>\n",
       "      <td>1612743103</td>\n",
       "    </tr>\n",
       "    <tr>\n",
       "      <th>8</th>\n",
       "      <td>jiexiu</td>\n",
       "      <td>37.0244</td>\n",
       "      <td>111.9125</td>\n",
       "      <td>273.60</td>\n",
       "      <td>79</td>\n",
       "      <td>7</td>\n",
       "      <td>0.47</td>\n",
       "      <td>CN</td>\n",
       "      <td>1612743237</td>\n",
       "    </tr>\n",
       "    <tr>\n",
       "      <th>9</th>\n",
       "      <td>krasnovishersk</td>\n",
       "      <td>60.4078</td>\n",
       "      <td>57.0820</td>\n",
       "      <td>243.66</td>\n",
       "      <td>86</td>\n",
       "      <td>100</td>\n",
       "      <td>2.90</td>\n",
       "      <td>RU</td>\n",
       "      <td>1612743238</td>\n",
       "    </tr>\n",
       "  </tbody>\n",
       "</table>\n",
       "</div>"
      ],
      "text/plain": [
       "             City      Lat       Lng  Max_Temp  Humidity  Cloudiness  \\\n",
       "0        tasiilaq  65.6145  -37.6368    270.15        46           0   \n",
       "1       cape town -33.9258   18.4232    292.15        68           0   \n",
       "2            chuy -33.6971  -53.4616    292.35        75          34   \n",
       "3       mahebourg -20.4081   57.7000    299.15        83          40   \n",
       "4         rikitea -23.1203 -134.9692    298.49        71          81   \n",
       "5       namatanai  -3.6667  152.4333    302.70        68          96   \n",
       "6  cabo san lucas  22.8909 -109.9124    294.26        60          40   \n",
       "7       busselton -33.6500  115.3333    290.93        99          81   \n",
       "8          jiexiu  37.0244  111.9125    273.60        79           7   \n",
       "9  krasnovishersk  60.4078   57.0820    243.66        86         100   \n",
       "\n",
       "   Wind_Speed Country        Date  \n",
       "0        8.75      GL  1612743022  \n",
       "1        6.69      ZA  1612743023  \n",
       "2        3.79      UY  1612742696  \n",
       "3        3.09      MU  1612743230  \n",
       "4        5.60      PF  1612743231  \n",
       "5        2.19      PG  1612742677  \n",
       "6        3.09      MX  1612743235  \n",
       "7        1.34      AU  1612743103  \n",
       "8        0.47      CN  1612743237  \n",
       "9        2.90      RU  1612743238  "
      ]
     },
     "execution_count": 21,
     "metadata": {},
     "output_type": "execute_result"
    }
   ],
   "source": [
    "# Create new DataFrame that does not include indicies where humidity is >100\n",
    "Clean_City_Data = Weather_df.drop(index=humidity_check)\n",
    "Clean_City_Data.head(10)"
   ]
  },
  {
   "cell_type": "markdown",
   "metadata": {},
   "source": [
    "## Plotting the Data\n",
    "* Use proper labeling of the plots using plot titles (including date of analysis) and axes labels.\n",
    "* Save the plotted figures as .pngs."
   ]
  },
  {
   "cell_type": "markdown",
   "metadata": {},
   "source": [
    "## Latitude vs. Temperature Plot"
   ]
  },
  {
   "cell_type": "code",
   "execution_count": 22,
   "metadata": {},
   "outputs": [
    {
     "data": {
      "image/png": "[encoded data removed]",
      "text/plain": [
       "<Figure size 432x288 with 1 Axes>"
      ]
     },
     "metadata": {
      "needs_background": "light"
     },
     "output_type": "display_data"
    }
   ],
   "source": [
    "# Build Scatter Plot for Lat and Max Temp\n",
    "plt.scatter(Clean_City_Data[\"Lat\"], Clean_City_Data[\"Max_Temp\"], marker=\"o\")\n",
    "\n",
    "# Format Graph\n",
    "plt.title(\"City Latitude vs. Max Temperature on 02/07/2021\")\n",
    "plt.ylabel(\"Max Temperature (F)\")\n",
    "plt.xlabel(\"Latitude\")\n",
    "plt.grid(True)\n",
    "\n",
    "# Save for homework\n",
    "plt.savefig(\"City Lat vs. Temp.png\")\n",
    "\n",
    "plt.show()"
   ]
  },
  {
   "cell_type": "markdown",
   "metadata": {},
   "source": [
    "## Latitude vs. Humidity Plot"
   ]
  },
  {
   "cell_type": "code",
   "execution_count": 23,
   "metadata": {},
   "outputs": [
    {
     "data": {
      "image/png": "[encoded data removed]",
      "text/plain": [
       "<Figure size 432x288 with 1 Axes>"
      ]
     },
     "metadata": {
      "needs_background": "light"
     },
     "output_type": "display_data"
    }
   ],
   "source": [
    "# Build Scatter Plot for Lat and Humidity\n",
    "plt.scatter(Clean_City_Data[\"Lat\"], Clean_City_Data[\"Humidity\"], marker=\"o\")\n",
    "\n",
    "# Format Graph\n",
    "plt.title(\"City Latitude vs. Humidity on 02/07/2021\")\n",
    "plt.ylabel(\"Humidity\")\n",
    "plt.xlabel(\"Latitude\")\n",
    "plt.grid(True)\n",
    "\n",
    "# Save for homework\n",
    "plt.savefig(\"City Lat vs. Humidity.png\")\n",
    "\n",
    "plt.show()"
   ]
  },
  {
   "cell_type": "markdown",
   "metadata": {},
   "source": [
    "## Latitude vs. Cloudiness Plot"
   ]
  },
  {
   "cell_type": "code",
   "execution_count": 24,
   "metadata": {},
   "outputs": [
    {
     "data": {
      "image/png": "[encoded data removed]",
      "text/plain": [
       "<Figure size 432x288 with 1 Axes>"
      ]
     },
     "metadata": {
      "needs_background": "light"
     },
     "output_type": "display_data"
    }
   ],
   "source": [
    "# Build Scatter Plot for Lat and Cloudiness\n",
    "plt.scatter(Clean_City_Data[\"Lat\"], Clean_City_Data[\"Cloudiness\"], marker=\"o\")\n",
    "# Format Graph\n",
    "plt.title(\"City Latitude vs. Cloudiness on 02/07/2021\")\n",
    "plt.ylabel(\"Cloudiness (%)\")\n",
    "plt.xlabel(\"Latitude\")\n",
    "plt.grid(True)\n",
    "\n",
    "# Save for homework\n",
    "plt.savefig(\"City Lat vs. Cloudiness.png\")\n",
    "\n",
    "plt.show()"
   ]
  },
  {
   "cell_type": "markdown",
   "metadata": {},
   "source": [
    "## Latitude vs. Wind Speed Plot"
   ]
  },
  {
   "cell_type": "code",
   "execution_count": 25,
   "metadata": {},
   "outputs": [
    {
     "data": {
      "image/png": "[encoded data removed]",
      "text/plain": [
       "<Figure size 432x288 with 1 Axes>"
      ]
     },
     "metadata": {
      "needs_background": "light"
     },
     "output_type": "display_data"
    }
   ],
   "source": [
    "# Build Scatter Plot for Lat and Wind Speed\n",
    "plt.scatter(Clean_City_Data[\"Lat\"], Clean_City_Data[\"Wind_Speed\"], marker=\"o\")\n",
    "# Format Graph\n",
    "plt.title(\"City Latitude vs. Wind Speed on 02/07/2021\")\n",
    "plt.ylabel(\"Wind Speed (mph)\")\n",
    "plt.xlabel(\"Latitude\")\n",
    "plt.grid(True)\n",
    "\n",
    "# Save for homework\n",
    "plt.savefig(\"City Lat vs. WindSpeed.png\")\n",
    "\n",
    "plt.show()"
   ]
  },
  {
   "cell_type": "markdown",
   "metadata": {},
   "source": [
    "## Linear Regression"
   ]
  },
  {
   "cell_type": "markdown",
   "metadata": {},
   "source": [
    "####  Northern Hemisphere - Max Temp vs. Latitude Linear Regression"
   ]
  },
  {
   "cell_type": "code",
   "execution_count": 28,
   "metadata": {},
   "outputs": [
    {
     "data": {
      "text/plain": [
       "0      255.979825\n",
       "6      287.930677\n",
       "8      277.360937\n",
       "9      259.873656\n",
       "13     291.226902\n",
       "          ...    \n",
       "546    267.838111\n",
       "547    299.783355\n",
       "548    281.891189\n",
       "549    282.359119\n",
       "550    298.723128\n",
       "Name: Lat, Length: 374, dtype: float64"
      ]
     },
     "execution_count": 28,
     "metadata": {},
     "output_type": "execute_result"
    }
   ],
   "source": [
    "# Seperate plots into Northern and Southern Hemispheres\n",
    "Northern = Clean_City_Data.loc[Clean_City_Data[\"Lat\"]>=0]\n",
    "#Southern = Clean_City_Data.loc[Clean_City_Data[\"Lat\"]<0]\n",
    "\n",
    "# Perform a linear regression on Northern temperature vs. latitude\n",
    "(slope, intercept, rvalue, pvalue, stderr) = linregress(Northern[\"Lat\"], Northern[\"Max_Temp\"])\n",
    "\n",
    "# Get regression values\n",
    "Regress_Values = (Northern[\"Lat\"]) * slope + intercept\n",
    "Regress_Values"
   ]
  },
  {
   "cell_type": "code",
   "execution_count": 29,
   "metadata": {},
   "outputs": [
    {
     "data": {
      "text/plain": [
       "'y = -0.75x +305.05'"
      ]
     },
     "execution_count": 29,
     "metadata": {},
     "output_type": "execute_result"
    }
   ],
   "source": [
    "# Create line equation string\n",
    "Line_Eq = \"y = \" + str(round(slope,2)) + \"x +\" + str(round(intercept,2))\n",
    "Line_Eq"
   ]
  },
  {
   "cell_type": "code",
   "execution_count": 30,
   "metadata": {},
   "outputs": [
    {
     "data": {
      "image/png": "[encoded data removed]",
      "text/plain": [
       "<Figure size 432x288 with 1 Axes>"
      ]
     },
     "metadata": {},
     "output_type": "display_data"
    }
   ],
   "source": [
    "# Create Plot\n",
    "x_values = Northern[\"Lat\"]\n",
    "y_values = Northern[\"Max_Temp\"]\n",
    "(slope, intercept, rvalue, pvalue, stderr) = linregress(x_values, y_values)\n",
    "Regress_Values = x_values * slope + intercept\n",
    "Line_Eq = \"y = \" + str(round(slope,2)) + \"x +\" + str(round(intercept,2))\n",
    "\n",
    "plt.scatter(x_values,y_values)\n",
    "plt.plot(x_values, Regress_Values, \"r-\") \n",
    "plt.annotate(Line_Eq,(6,10),fontsize=15,color=\"red\")\n",
    "\n",
    "# Format Graph\n",
    "plt.title(\"Northern Hemisphere-Max Temp vs. Latitude Linear Regression 02/07/2021\")\n",
    "plt.ylabel(\"Max Temp\")\n",
    "plt.xlabel(\"Latitude\")\n",
    "plt.grid(True)\n",
    "\n",
    "# Save for homework\n",
    "plt.savefig(\"Northern: Temp vs. Lat Linear Reg.png\")\n",
    "\n",
    "plt.show()"
   ]
  },
  {
   "cell_type": "markdown",
   "metadata": {},
   "source": [
    "####  Southern Hemisphere - Max Temp vs. Latitude Linear Regression"
   ]
  },
  {
   "cell_type": "code",
   "execution_count": 31,
   "metadata": {},
   "outputs": [
    {
     "data": {
      "text/plain": [
       "1      293.704790\n",
       "2      293.744890\n",
       "3      296.074952\n",
       "4      295.599402\n",
       "5      299.010351\n",
       "          ...    \n",
       "520    296.149278\n",
       "523    298.056619\n",
       "527    297.746219\n",
       "533    296.532251\n",
       "539    299.220475\n",
       "Name: Lat, Length: 177, dtype: float64"
      ]
     },
     "execution_count": 31,
     "metadata": {},
     "output_type": "execute_result"
    }
   ],
   "source": [
    "# Seperate plots into Northern and Southern Hemispheres\n",
    "#Northern = Clean_City_Data.loc[Clean_City_Data[\"Lat\"]>=0]\n",
    "Southern = Clean_City_Data.loc[Clean_City_Data[\"Lat\"]<0]\n",
    "\n",
    "# Perform a linear regression on Southern humidity vs. latitude\n",
    "(slope, intercept, rvalue, pvalue, stderr) = linregress(Southern[\"Lat\"], Southern[\"Max_Temp\"])\n",
    "\n",
    "# Get regression values\n",
    "Regress_Values = (Southern[\"Lat\"]) * slope + intercept\n",
    "Regress_Values"
   ]
  },
  {
   "cell_type": "code",
   "execution_count": 32,
   "metadata": {},
   "outputs": [
    {
     "data": {
      "text/plain": [
       "'y = 0.18x +299.65'"
      ]
     },
     "execution_count": 32,
     "metadata": {},
     "output_type": "execute_result"
    }
   ],
   "source": [
    "# Create line equation string\n",
    "Line_Eq = \"y = \" + str(round(slope,2)) + \"x +\" + str(round(intercept,2))\n",
    "Line_Eq"
   ]
  },
  {
   "cell_type": "code",
   "execution_count": 33,
   "metadata": {},
   "outputs": [
    {
     "data": {
      "image/png": "[encoded data removed]",
      "text/plain": [
       "<Figure size 432x288 with 1 Axes>"
      ]
     },
     "metadata": {},
     "output_type": "display_data"
    }
   ],
   "source": [
    "# Create Plot\n",
    "x_values = Southern[\"Lat\"]\n",
    "y_values = Southern[\"Max_Temp\"]\n",
    "(slope, intercept, rvalue, pvalue, stderr) = linregress(x_values, y_values)\n",
    "Regress_Values = x_values * slope + intercept\n",
    "Line_Eq = \"y = \" + str(round(slope,2)) + \"x +\" + str(round(intercept,2))\n",
    "\n",
    "plt.scatter(x_values,y_values)\n",
    "plt.plot(x_values, Regress_Values, \"r-\") \n",
    "plt.annotate(Line_Eq,(6,10),fontsize=15,color=\"red\")\n",
    "\n",
    "# Format Graph\n",
    "plt.title(\"Southern Hemisphere-Max Temp vs. Latitude Linear Regression 02/07/2021\")\n",
    "plt.ylabel(\"Max Temp\")\n",
    "plt.xlabel(\"Latitude\")\n",
    "plt.grid(True)\n",
    "\n",
    "# Save for homework\n",
    "plt.savefig(\"Southern Temp vs. Lat Linear Reg.png\")\n",
    "\n",
    "plt.show()"
   ]
  },
  {
   "cell_type": "markdown",
   "metadata": {},
   "source": [
    "####  Northern Hemisphere - Humidity (%) vs. Latitude Linear Regression"
   ]
  },
  {
   "cell_type": "code",
   "execution_count": 34,
   "metadata": {
    "scrolled": true
   },
   "outputs": [
    {
     "data": {
      "text/plain": [
       "0      80.316793\n",
       "6      66.264702\n",
       "8      70.913309\n",
       "9      78.604273\n",
       "13     64.815011\n",
       "         ...    \n",
       "546    75.101479\n",
       "547    61.051855\n",
       "548    68.920889\n",
       "549    68.715092\n",
       "550    61.518146\n",
       "Name: Lat, Length: 374, dtype: float64"
      ]
     },
     "execution_count": 34,
     "metadata": {},
     "output_type": "execute_result"
    }
   ],
   "source": [
    "# Seperate plots into Northern and Southern Hemispheres\n",
    "Northern = Clean_City_Data.loc[Clean_City_Data[\"Lat\"]>=0]\n",
    "#Southern = Clean_City_Data.loc[Clean_City_Data[\"Lat\"]<0]\n",
    "\n",
    "# Perform a linear regression on Northern humidity vs. latitude\n",
    "(slope, intercept, rvalue, pvalue, stderr) = linregress(Northern[\"Lat\"], Northern[\"Humidity\"])\n",
    "\n",
    "# Get regression values\n",
    "Regress_Values = (Northern[\"Lat\"]) * slope + intercept\n",
    "Regress_Values"
   ]
  },
  {
   "cell_type": "code",
   "execution_count": 35,
   "metadata": {},
   "outputs": [
    {
     "data": {
      "text/plain": [
       "'y = 0.33x +58.74'"
      ]
     },
     "execution_count": 35,
     "metadata": {},
     "output_type": "execute_result"
    }
   ],
   "source": [
    "# Create line equation string\n",
    "Line_Eq = \"y = \" + str(round(slope,2)) + \"x +\" + str(round(intercept,2))\n",
    "Line_Eq"
   ]
  },
  {
   "cell_type": "code",
   "execution_count": 36,
   "metadata": {},
   "outputs": [
    {
     "data": {
      "image/png": "[encoded data removed]",
      "text/plain": [
       "<Figure size 432x288 with 1 Axes>"
      ]
     },
     "metadata": {},
     "output_type": "display_data"
    }
   ],
   "source": [
    "# Create Plot\n",
    "x_values = Northern[\"Lat\"]\n",
    "y_values = Northern[\"Humidity\"]\n",
    "(slope, intercept, rvalue, pvalue, stderr) = linregress(x_values, y_values)\n",
    "Regress_Values = x_values * slope + intercept\n",
    "Line_Eq = \"y = \" + str(round(slope,2)) + \"x +\" + str(round(intercept,2))\n",
    "\n",
    "plt.scatter(x_values,y_values)\n",
    "plt.plot(x_values, Regress_Values, \"r-\") \n",
    "plt.annotate(Line_Eq,(6,10),fontsize=15,color=\"red\")\n",
    "\n",
    "# Format Graph\n",
    "plt.title(\"Northern Hemisphere-Humidity vs. Latitude Linear Regression 02/07/2021\")\n",
    "plt.ylabel(\"Humidity\")\n",
    "plt.xlabel(\"Latitude\")\n",
    "plt.grid(True)\n",
    "\n",
    "# Save for homework\n",
    "plt.savefig(\"Northern Humidity vs. Lat Linear Reg.png\")\n",
    "\n",
    "plt.show()"
   ]
  },
  {
   "cell_type": "markdown",
   "metadata": {},
   "source": [
    "####  Southern Hemisphere - Humidity (%) vs. Latitude Linear Regression"
   ]
  },
  {
   "cell_type": "code",
   "execution_count": 37,
   "metadata": {
    "scrolled": true
   },
   "outputs": [
    {
     "data": {
      "text/plain": [
       "1      69.032195\n",
       "2      69.142870\n",
       "3      75.573845\n",
       "4      74.261324\n",
       "5      83.675548\n",
       "         ...    \n",
       "520    75.778984\n",
       "523    81.043247\n",
       "527    80.186542\n",
       "533    76.835989\n",
       "539    84.255492\n",
       "Name: Lat, Length: 177, dtype: float64"
      ]
     },
     "execution_count": 37,
     "metadata": {},
     "output_type": "execute_result"
    }
   ],
   "source": [
    "# Seperate plots into Northern and Southern Hemispheres\n",
    "#Northern = Clean_City_Data.loc[Clean_City_Data[\"Lat\"]>=0]\n",
    "Southern = Clean_City_Data.loc[Clean_City_Data[\"Lat\"]<0]\n",
    "\n",
    "# Perform a linear regression on Southern humidity vs. latitude\n",
    "(slope, intercept, rvalue, pvalue, stderr) = linregress(Southern[\"Lat\"], Southern[\"Humidity\"])\n",
    "\n",
    "# Get regression values\n",
    "Regress_Values = (Southern[\"Lat\"]) * slope + intercept\n",
    "Regress_Values"
   ]
  },
  {
   "cell_type": "code",
   "execution_count": 38,
   "metadata": {},
   "outputs": [
    {
     "data": {
      "text/plain": [
       "'y = 0.48x +85.45'"
      ]
     },
     "execution_count": 38,
     "metadata": {},
     "output_type": "execute_result"
    }
   ],
   "source": [
    "# Create line equation string\n",
    "Line_Eq = \"y = \" + str(round(slope,2)) + \"x +\" + str(round(intercept,2))\n",
    "Line_Eq"
   ]
  },
  {
   "cell_type": "code",
   "execution_count": 39,
   "metadata": {},
   "outputs": [
    {
     "data": {
      "image/png": "[encoded data removed]",
      "text/plain": [
       "<Figure size 432x288 with 1 Axes>"
      ]
     },
     "metadata": {},
     "output_type": "display_data"
    }
   ],
   "source": [
    "# Create Plot\n",
    "x_values = Southern[\"Lat\"]\n",
    "y_values = Southern[\"Humidity\"]\n",
    "(slope, intercept, rvalue, pvalue, stderr) = linregress(x_values, y_values)\n",
    "Regress_Values = x_values * slope + intercept\n",
    "Line_Eq = \"y = \" + str(round(slope,2)) + \"x +\" + str(round(intercept,2))\n",
    "\n",
    "plt.scatter(x_values,y_values)\n",
    "plt.plot(x_values, Regress_Values, \"r-\") \n",
    "plt.annotate(Line_Eq,(6,10),fontsize=15,color=\"red\")\n",
    "\n",
    "# Format Graph\n",
    "plt.title(\"Southern Hemisphere-Humidity vs. Latitude Linear Regression 02/07/2021\")\n",
    "plt.ylabel(\"Humidity\")\n",
    "plt.xlabel(\"Latitude\")\n",
    "plt.grid(True)\n",
    "\n",
    "# Save for homework\n",
    "plt.savefig(\"Southern Humidity vs. Lat Linear Reg.png\")\n",
    "\n",
    "plt.show()"
   ]
  },
  {
   "cell_type": "markdown",
   "metadata": {},
   "source": [
    "####  Northern Hemisphere - Cloudiness (%) vs. Latitude Linear Regression"
   ]
  },
  {
   "cell_type": "code",
   "execution_count": 40,
   "metadata": {
    "scrolled": true
   },
   "outputs": [
    {
     "data": {
      "text/plain": [
       "0      54.024056\n",
       "6      43.438255\n",
       "8      46.940170\n",
       "9      52.733970\n",
       "13     42.346166\n",
       "         ...    \n",
       "546    50.095226\n",
       "547    39.511284\n",
       "548    45.439229\n",
       "549    45.284197\n",
       "550    39.862553\n",
       "Name: Lat, Length: 374, dtype: float64"
      ]
     },
     "execution_count": 40,
     "metadata": {},
     "output_type": "execute_result"
    }
   ],
   "source": [
    "# Seperate plots into Northern and Southern Hemispheres\n",
    "Northern = Clean_City_Data.loc[Clean_City_Data[\"Lat\"]>=0]\n",
    "#Southern = Clean_City_Data.loc[Clean_City_Data[\"Lat\"]<0]\n",
    "\n",
    "# Perform a linear regression on Northern Cloudiness vs. latitude\n",
    "(slope, intercept, rvalue, pvalue, stderr) = linregress(Northern[\"Lat\"], Northern[\"Cloudiness\"])\n",
    "\n",
    "# Get regression values\n",
    "Regress_Values = (Northern[\"Lat\"]) * slope + intercept\n",
    "Regress_Values"
   ]
  },
  {
   "cell_type": "code",
   "execution_count": 41,
   "metadata": {},
   "outputs": [
    {
     "data": {
      "text/plain": [
       "'y = 0.25x +37.77'"
      ]
     },
     "execution_count": 41,
     "metadata": {},
     "output_type": "execute_result"
    }
   ],
   "source": [
    "# Create line equation string\n",
    "Line_Eq = \"y = \" + str(round(slope,2)) + \"x +\" + str(round(intercept,2))\n",
    "Line_Eq"
   ]
  },
  {
   "cell_type": "code",
   "execution_count": 42,
   "metadata": {},
   "outputs": [
    {
     "data": {
      "image/png": "[encoded data removed]",
      "text/plain": [
       "<Figure size 432x288 with 1 Axes>"
      ]
     },
     "metadata": {},
     "output_type": "display_data"
    }
   ],
   "source": [
    "# Create Plot\n",
    "x_values = Northern[\"Lat\"]\n",
    "y_values = Northern[\"Cloudiness\"]\n",
    "(slope, intercept, rvalue, pvalue, stderr) = linregress(x_values, y_values)\n",
    "Regress_Values = x_values * slope + intercept\n",
    "Line_Eq = \"y = \" + str(round(slope,2)) + \"x +\" + str(round(intercept,2))\n",
    "\n",
    "plt.scatter(x_values,y_values)\n",
    "plt.plot(x_values, Regress_Values, \"r-\") \n",
    "plt.annotate(Line_Eq,(6,10),fontsize=15,color=\"red\")\n",
    "\n",
    "# Format Graph\n",
    "plt.title(\"Northern Hemisphere-Cloudiness vs. Latitude Linear Regression 02/07/2021\")\n",
    "plt.ylabel(\"Cloudiness\")\n",
    "plt.xlabel(\"Latitude\")\n",
    "plt.grid(True)\n",
    "\n",
    "# Save for homework\n",
    "plt.savefig(\"Northern Cloudiness vs. Lat Linear Reg.png\")\n",
    "\n",
    "plt.show()"
   ]
  },
  {
   "cell_type": "markdown",
   "metadata": {},
   "source": [
    "####  Southern Hemisphere - Cloudiness (%) vs. Latitude Linear Regression"
   ]
  },
  {
   "cell_type": "code",
   "execution_count": 43,
   "metadata": {
    "scrolled": true
   },
   "outputs": [
    {
     "data": {
      "text/plain": [
       "1      48.913953\n",
       "2      49.072256\n",
       "3      58.270706\n",
       "4      56.393361\n",
       "5      69.858856\n",
       "         ...    \n",
       "520    58.564123\n",
       "523    66.093783\n",
       "527    64.868408\n",
       "533    60.075994\n",
       "539    70.688371\n",
       "Name: Lat, Length: 177, dtype: float64"
      ]
     },
     "execution_count": 43,
     "metadata": {},
     "output_type": "execute_result"
    }
   ],
   "source": [
    "# Seperate plots into Northern and Southern Hemispheres\n",
    "#Northern = Clean_City_Data.loc[Clean_City_Data[\"Lat\"]>=0]\n",
    "Southern = Clean_City_Data.loc[Clean_City_Data[\"Lat\"]<0]\n",
    "\n",
    "# Perform a linear regression on Southern Cloudiness vs. latitude\n",
    "(slope, intercept, rvalue, pvalue, stderr) = linregress(Southern[\"Lat\"], Southern[\"Cloudiness\"])\n",
    "\n",
    "# Get regression values\n",
    "Regress_Values = (Southern[\"Lat\"]) * slope + intercept\n",
    "Regress_Values"
   ]
  },
  {
   "cell_type": "code",
   "execution_count": 44,
   "metadata": {},
   "outputs": [
    {
     "data": {
      "text/plain": [
       "'y = 0.69x +72.4'"
      ]
     },
     "execution_count": 44,
     "metadata": {},
     "output_type": "execute_result"
    }
   ],
   "source": [
    "# Create line equation string\n",
    "Line_Eq = \"y = \" + str(round(slope,2)) + \"x +\" + str(round(intercept,2))\n",
    "Line_Eq"
   ]
  },
  {
   "cell_type": "code",
   "execution_count": 45,
   "metadata": {},
   "outputs": [
    {
     "data": {
      "image/png": "[encoded data removed]",
      "text/plain": [
       "<Figure size 432x288 with 1 Axes>"
      ]
     },
     "metadata": {},
     "output_type": "display_data"
    }
   ],
   "source": [
    "# Create Plot\n",
    "x_values = Southern[\"Lat\"]\n",
    "y_values = Southern[\"Cloudiness\"]\n",
    "(slope, intercept, rvalue, pvalue, stderr) = linregress(x_values, y_values)\n",
    "Regress_Values = x_values * slope + intercept\n",
    "Line_Eq = \"y = \" + str(round(slope,2)) + \"x +\" + str(round(intercept,2))\n",
    "\n",
    "plt.scatter(x_values,y_values)\n",
    "plt.plot(x_values, Regress_Values, \"r-\") \n",
    "plt.annotate(Line_Eq,(6,10),fontsize=15,color=\"red\")\n",
    "\n",
    "# Format Graph\n",
    "plt.title(\"Southern Hemisphere-Cloudiness vs. Latitude Linear Regression 02/07/2021\")\n",
    "plt.ylabel(\"Cloudiness\")\n",
    "plt.xlabel(\"Latitude\")\n",
    "plt.grid(True)\n",
    "\n",
    "# Save for homework\n",
    "plt.savefig(\"Southern Cloudiness vs. Lat Linear Reg.png\")\n",
    "\n",
    "plt.show()"
   ]
  },
  {
   "cell_type": "markdown",
   "metadata": {},
   "source": [
    "####  Northern Hemisphere - Wind Speed (mph) vs. Latitude Linear Regression"
   ]
  },
  {
   "cell_type": "code",
   "execution_count": 46,
   "metadata": {
    "scrolled": true
   },
   "outputs": [
    {
     "data": {
      "text/plain": [
       "0      4.713164\n",
       "6      3.455516\n",
       "8      3.871561\n",
       "9      4.559895\n",
       "13     3.325770\n",
       "         ...   \n",
       "546    4.246398\n",
       "547    2.988971\n",
       "548    3.693242\n",
       "549    3.674823\n",
       "550    3.030704\n",
       "Name: Lat, Length: 374, dtype: float64"
      ]
     },
     "execution_count": 46,
     "metadata": {},
     "output_type": "execute_result"
    }
   ],
   "source": [
    "# Seperate plots into Northern and Southern Hemispheres\n",
    "Northern = Clean_City_Data.loc[Clean_City_Data[\"Lat\"]>=0]\n",
    "#Southern = Clean_City_Data.loc[Clean_City_Data[\"Lat\"]<0]\n",
    "\n",
    "# Perform a linear regression on Northern Cloudiness vs. latitude\n",
    "(slope, intercept, rvalue, pvalue, stderr) = linregress(Northern[\"Lat\"], Northern[\"Wind_Speed\"])\n",
    "\n",
    "# Get regression values\n",
    "Regress_Values = (Northern[\"Lat\"]) * slope + intercept\n",
    "Regress_Values"
   ]
  },
  {
   "cell_type": "code",
   "execution_count": 47,
   "metadata": {},
   "outputs": [
    {
     "data": {
      "text/plain": [
       "'y = 0.03x +2.78'"
      ]
     },
     "execution_count": 47,
     "metadata": {},
     "output_type": "execute_result"
    }
   ],
   "source": [
    "# Create line equation string\n",
    "Line_Eq = \"y = \" + str(round(slope,2)) + \"x +\" + str(round(intercept,2))\n",
    "Line_Eq"
   ]
  },
  {
   "cell_type": "code",
   "execution_count": 48,
   "metadata": {},
   "outputs": [
    {
     "data": {
      "image/png": "[encoded data removed]",
      "text/plain": [
       "<Figure size 432x288 with 1 Axes>"
      ]
     },
     "metadata": {},
     "output_type": "display_data"
    }
   ],
   "source": [
    "# Create Plot\n",
    "x_values = Northern[\"Lat\"]\n",
    "y_values = Northern[\"Wind_Speed\"]\n",
    "(slope, intercept, rvalue, pvalue, stderr) = linregress(x_values, y_values)\n",
    "Regress_Values = x_values * slope + intercept\n",
    "Line_Eq = \"y = \" + str(round(slope,2)) + \"x +\" + str(round(intercept,2))\n",
    "\n",
    "plt.scatter(x_values,y_values)\n",
    "plt.plot(x_values, Regress_Values, \"r-\") \n",
    "plt.annotate(Line_Eq,(6,10),fontsize=15,color=\"red\")\n",
    "\n",
    "# Format Graph\n",
    "plt.title(\"Northern Hemisphere-Wind Speed vs. Latitude Linear Regression 02/07/2021\")\n",
    "plt.ylabel(\"Wind Speed\")\n",
    "plt.xlabel(\"Latitude\")\n",
    "plt.grid(True)\n",
    "\n",
    "# Save for homework\n",
    "plt.savefig(\"Northern Wind Speed vs. Lat Linear Reg.png\")\n",
    "\n",
    "plt.show()"
   ]
  },
  {
   "cell_type": "markdown",
   "metadata": {},
   "source": [
    "####  Southern Hemisphere - Wind Speed (mph) vs. Latitude Linear Regression"
   ]
  },
  {
   "cell_type": "code",
   "execution_count": 49,
   "metadata": {
    "scrolled": true
   },
   "outputs": [
    {
     "data": {
      "text/plain": [
       "1      3.998575\n",
       "2      3.987183\n",
       "3      3.325238\n",
       "4      3.460337\n",
       "5      2.491324\n",
       "         ...   \n",
       "520    3.304123\n",
       "523    2.762269\n",
       "527    2.850450\n",
       "533    3.195325\n",
       "539    2.431630\n",
       "Name: Lat, Length: 177, dtype: float64"
      ]
     },
     "execution_count": 49,
     "metadata": {},
     "output_type": "execute_result"
    }
   ],
   "source": [
    "# Seperate plots into Northern and Southern Hemispheres\n",
    "#Northern = Clean_City_Data.loc[Clean_City_Data[\"Lat\"]>=0]\n",
    "Southern = Clean_City_Data.loc[Clean_City_Data[\"Lat\"]<0]\n",
    "\n",
    "# Perform a linear regression on Northern Cloudiness vs. latitude\n",
    "(slope, intercept, rvalue, pvalue, stderr) = linregress(Southern[\"Lat\"], Southern[\"Wind_Speed\"])\n",
    "\n",
    "# Get regression values\n",
    "Regress_Values = (Southern[\"Lat\"]) * slope + intercept\n",
    "Regress_Values"
   ]
  },
  {
   "cell_type": "code",
   "execution_count": 50,
   "metadata": {},
   "outputs": [
    {
     "data": {
      "text/plain": [
       "'y = -0.05x +2.31'"
      ]
     },
     "execution_count": 50,
     "metadata": {},
     "output_type": "execute_result"
    }
   ],
   "source": [
    "# Create line equation string\n",
    "Line_Eq = \"y = \" + str(round(slope,2)) + \"x +\" + str(round(intercept,2))\n",
    "Line_Eq"
   ]
  },
  {
   "cell_type": "code",
   "execution_count": 52,
   "metadata": {},
   "outputs": [
    {
     "data": {
      "image/png": "[encoded data removed]",
      "text/plain": [
       "<Figure size 432x288 with 1 Axes>"
      ]
     },
     "metadata": {},
     "output_type": "display_data"
    }
   ],
   "source": [
    "# Create Plot\n",
    "x_values = Southern[\"Lat\"]\n",
    "y_values = Southern[\"Wind_Speed\"]\n",
    "(slope, intercept, rvalue, pvalue, stderr) = linregress(x_values, y_values)\n",
    "Regress_Values = x_values * slope + intercept\n",
    "Line_Eq = \"y = \" + str(round(slope,2)) + \"x +\" + str(round(intercept,2))\n",
    "\n",
    "plt.scatter(x_values,y_values)\n",
    "plt.plot(x_values, Regress_Values, \"r-\") \n",
    "plt.annotate(Line_Eq,(6,10),fontsize=15,color=\"red\")\n",
    "\n",
    "# Format Graph\n",
    "plt.title(\"Southern Hemisphere-Wind Speed vs. Latitude Linear Regression 02/07/2021\")\n",
    "plt.ylabel(\"Wind Speed\")\n",
    "plt.xlabel(\"Latitude\")\n",
    "plt.grid(True)\n",
    "\n",
    "# Save for homework\n",
    "plt.savefig(\"Southern Wind Speed vs. Lat Linear Reg.png\")\n",
    "\n",
    "plt.show()"
   ]
  },
  {
   "cell_type": "code",
   "execution_count": null,
   "metadata": {},
   "outputs": [],
   "source": []
  },
  {
   "cell_type": "code",
   "execution_count": null,
   "metadata": {},
   "outputs": [],
   "source": []
  },
  {
   "cell_type": "code",
   "execution_count": null,
   "metadata": {},
   "outputs": [],
   "source": []
  }
 ],
 "metadata": {
  "anaconda-cloud": {},
  "kernel_info": {
   "name": "python3"
  },
  "kernelspec": {
   "display_name": "Python 3",
   "language": "python",
   "name": "python3"
  },
  "language_info": {
   "codemirror_mode": {
    "name": "ipython",
    "version": 3
   },
   "file_extension": ".py",
   "mimetype": "text/x-python",
   "name": "python",
   "nbconvert_exporter": "python",
   "pygments_lexer": "ipython3",
   "version": "3.6.12"
  },
  "latex_envs": {
   "LaTeX_envs_menu_present": true,
   "autoclose": false,
   "autocomplete": true,
   "bibliofile": "biblio.bib",
   "cite_by": "apalike",
   "current_citInitial": 1,
   "eqLabelWithNumbers": true,
   "eqNumInitial": 1,
   "hotkeys": {
    "equation": "Ctrl-E",
    "itemize": "Ctrl-I"
   },
   "labels_anchors": false,
   "latex_user_defs": false,
   "report_style_numbering": false,
   "user_envs_cfg": false
  },
  "nteract": {
   "version": "0.12.3"
  }
 },
 "nbformat": 4,
 "nbformat_minor": 2
}
